{
 "cells": [
  {
   "cell_type": "markdown",
   "metadata": {},
   "source": [
    "# MADDPG - Collaboration and Competition\n",
    "---\n",
    "\n",
    "This notebook is a walkthrough of the third assignment of the [Udacity Deep Reinforcement Learning Nanodegree](https://www.udacity.com/course/deep-reinforcement-learning-nanodegree--nd893), which consists on solving the [Tennis](https://github.com/Unity-Technologies/ml-agents/blob/master/docs/Learning-Environment-Examples.md#tennis) environment.\n",
    "\n",
    "<img src=\"https://video.udacity-data.com/topher/2018/May/5af7955a_tennis/tennis.png\" alt-text=\"Tennis Environment\" height=\"10\"></img>\n",
    "\n",
    "In this environment, two agents control rackets to bounce a ball over a net. If an agent hits the ball over the net, it receives a reward of +0.1. If an agent let's a ball hit the ground or hits the ball out of bounds, it receives a reward of -0.01. Thus, the goal of each agent is to keep the ball in play.\n",
    "\n",
    "The observation space consists of 8 variables corresponding to the position and velocity of the ball and racket. Each agent receives its own, local observation. Two continuous actions are available, correponding to movement toward (or away from) the net, and jumping.\n",
    "\n",
    "The task is episodic, and in order to solve the environment, the agents must get an average score of +0.5 (over 100 consecutive episodes, after taking the maximum of both agents). Specifically,\n",
    "\n",
    "* After each episode, we add up the rewards that each agent received (without discounting), to get a score for each agent. This yields 2 (potentially different) scores. Then the maximum score of these 2 agent is taken.\n",
    "* This yields a **single** score for each episode."
   ]
  },
  {
   "cell_type": "code",
   "execution_count": 1,
   "metadata": {
    "scrolled": true
   },
   "outputs": [
    {
     "name": "stdout",
     "output_type": "stream",
     "text": [
      "\u001b[31mtensorflow 1.7.1 has requirement numpy>=1.13.3, but you'll have numpy 1.12.1 which is incompatible.\u001b[0m\n",
      "\u001b[31mipython 6.5.0 has requirement prompt-toolkit<2.0.0,>=1.0.15, but you'll have prompt-toolkit 2.0.10 which is incompatible.\u001b[0m\n"
     ]
    }
   ],
   "source": [
    "!pip -q install ../python"
   ]
  },
  {
   "cell_type": "code",
   "execution_count": 11,
   "metadata": {},
   "outputs": [],
   "source": [
    "from collections import deque\n",
    "import numpy as np\n",
    "import torch\n",
    "\n",
    "import sys\n",
    "sys.path.append('ddpg-collaboration')\n",
    "\n",
    "from models.actor import Actor\n",
    "from models.critic import Critic\n",
    "from agent import Agent\n",
    "from utils.utils import plot_result\n",
    "\n",
    "from unityagents import UnityEnvironment\n",
    "import matplotlib.pyplot as plt\n",
    "from workspace_utils import active_session\n",
    "\n",
    "%matplotlib inline"
   ]
  },
  {
   "cell_type": "markdown",
   "metadata": {},
   "source": [
    "Loading the environment"
   ]
  },
  {
   "cell_type": "code",
   "execution_count": 4,
   "metadata": {},
   "outputs": [
    {
     "name": "stderr",
     "output_type": "stream",
     "text": [
      "INFO:unityagents:\n",
      "'Academy' started successfully!\n",
      "Unity Academy name: Academy\n",
      "        Number of Brains: 1\n",
      "        Number of External Brains : 1\n",
      "        Lesson number : 0\n",
      "        Reset Parameters :\n",
      "\t\t\n",
      "Unity brain name: TennisBrain\n",
      "        Number of Visual Observations (per agent): 0\n",
      "        Vector Observation space type: continuous\n",
      "        Vector Observation space size (per agent): 8\n",
      "        Number of stacked Vector Observation: 3\n",
      "        Vector Action space type: continuous\n",
      "        Vector Action space size (per agent): 2\n",
      "        Vector Action descriptions: , \n"
     ]
    }
   ],
   "source": [
    "path = '/data/Tennis_Linux_NoVis/Tennis'\n",
    "\n",
    "env = UnityEnvironment(file_name=path)"
   ]
  },
  {
   "cell_type": "markdown",
   "metadata": {},
   "source": [
    "Getting the `brain_name`, a **brain** is responsible for deciding the actions of their associated agents. "
   ]
  },
  {
   "cell_type": "code",
   "execution_count": 5,
   "metadata": {},
   "outputs": [],
   "source": [
    "brain_name = env.brain_names[0]\n",
    "brain = env.brains[brain_name]"
   ]
  },
  {
   "cell_type": "markdown",
   "metadata": {},
   "source": [
    "## Checking the State and Action spaces\n",
    "\n",
    "In this environment, two agents control rackets to bounce a ball over a net. If an agent hits the ball over the net, it receives a reward of +0.1. If an agent lets a ball hit the ground or hits the ball out of bounds, it receives a reward of -0.01. Thus, the goal is to keep the ball in play.\n",
    "\n",
    "The observation space consists of 24 variables corresponding to the position and velocity of the ball and racket. Two continuous actions are available, corresponding to movement toward (or away from) the net, and jumping."
   ]
  },
  {
   "cell_type": "code",
   "execution_count": 6,
   "metadata": {},
   "outputs": [
    {
     "name": "stdout",
     "output_type": "stream",
     "text": [
      "Number of agents: 2\n",
      "Size of each action: 2\n",
      "There are 2 agents. Each observes a state with length: 24\n",
      "The state for the first agent looks like: [ 0.          0.          0.          0.          0.          0.          0.\n",
      "  0.          0.          0.          0.          0.          0.          0.\n",
      "  0.          0.         -6.65278625 -1.5        -0.          0.\n",
      "  6.83172083  6.         -0.          0.        ]\n"
     ]
    }
   ],
   "source": [
    "env_info = env.reset(train_mode=True)[brain_name]\n",
    "\n",
    "num_agents = len(env_info.agents)\n",
    "print(f'Number of agents: {num_agents}')\n",
    "\n",
    "action_size = brain.vector_action_space_size\n",
    "print(f'Size of each action: {action_size}')\n",
    "\n",
    "states = env_info.vector_observations\n",
    "state_size = states.shape[1]\n",
    "print(f'There are {num_agents} agents. Each observes a state with length: {state_size}')\n",
    "print(f'The state for the first agent looks like: {states[0]}')"
   ]
  },
  {
   "cell_type": "markdown",
   "metadata": {},
   "source": [
    "## Random Actions\n",
    "\n",
    "Taking random actions to check how the environment behaves."
   ]
  },
  {
   "cell_type": "code",
   "execution_count": null,
   "metadata": {},
   "outputs": [],
   "source": [
    "for i in range(1, 6):\n",
    "    env_info = env.reset(train_mode=False)[brain_name]\n",
    "    states = env_info.vector_observations\n",
    "    scores = np.zeros(num_agents)\n",
    "    \n",
    "    while True:\n",
    "        actions = np.random.randn(num_agents, action_size)\n",
    "        actions = np.clip(actions, -1, 1)\n",
    "        env_info = env.step(actions)[brain_name]\n",
    "        next_states = env_info.vector_observations\n",
    "        rewards = env_info.rewards\n",
    "        dones = env_info.local_done\n",
    "        \n",
    "        scores += env_info.rewards\n",
    "        states = next_states\n",
    "        \n",
    "        if np.any(dones):\n",
    "            break\n",
    "            \n",
    "    print(f'Score (max over agents) from episode {i}: {np.max(scores)}')"
   ]
  },
  {
   "cell_type": "code",
   "execution_count": null,
   "metadata": {},
   "outputs": [],
   "source": [
    "env.close()"
   ]
  },
  {
   "cell_type": "markdown",
   "metadata": {},
   "source": [
    "## Solving the Environment -- MADDPG\n",
    "\n",
    "This environment will be solved using MADDPG, which is the multi-agent version of the DDPG algorithm. DDPG is an algorithm based on [Deep Q-Networks](https://storage.googleapis.com/deepmind-media/dqn/DQNNaturePaper.pdf) to work on continous problems. It works with two networks: an actor and a critic. The actor is responsible for, given a state, perform an action (deterministic algorithm, choosing a single action, and not probabilities over the possible actions as DQN), while the critic will predict a score for this action on the state (judging how good was the action performed by the actor). \n",
    "\n",
    "Like DQNs, DDPG also works with Experience Replay, where it stores a bunch of `(state, action, rewards, next_state, done)` tuples and then sample it randomly for training (removing the correlation between state-action tuples). \n",
    "\n",
    "Also like DQNs, the DDPG has a `target` network for the actor and the critic, responsible for predicting the targets on the training stage. The weights of the local networks (the ones being trained) are used to *soft update* the weights of the `target` network, it means, after each iteration, a the weights of the networks are \"*mixed*\" together based on a parameter τ (which is much less than 1, I've used 0.002). The resulting weights of the `target` network are composed of τ times the weights of the `local` plus (1 - τ) times the current weights of the `target`. This technique has been proved to help stability during learning, ahd improves the result of the algorithm (it could also be used on the DQN arquitecture).\n",
    "\n",
    "Deep reinforcement learning algorithms are successful because of a duality of exploration and exploitation. On the beginning of the training, the agent does not know much about the environment, and to help it explore the environment correctly, it is usual to add some randomness to the action-choosing process. On the DQN paper, this was implementeed based on a ε-greedy technique, where the agent could choose both the best known action or a random one (on the beginning of the training, the agent would usually choose random actions, and as training develops, the agent gets more *trustyworthy* and starts to choose the best known action). Since the DDPG does not work with probabilities over actions, it cannot make use of ε-greedy for exploration, and to address this problem it's often used to add some noise on the actions on the beginning of training, on this work I've used the Orsntein-Uhlenbeck noise process. The noise added to the action keeps getting smaller as the number of episodes get bigger, and later on training the agent is always choosing the predicted action (without any noise). "
   ]
  },
  {
   "cell_type": "code",
   "execution_count": 7,
   "metadata": {},
   "outputs": [],
   "source": [
    "agent = Agent(state_size, action_size, 25, [400, 300], [400, 300])\n",
    "n_episodes = 5000\n",
    "max_t = 3000\n",
    "print_every = 100\n",
    "train = True\n",
    "\n",
    "eps_start = 1.5\n",
    "eps_decay = 0.999\n",
    "eps_min = 0.01"
   ]
  },
  {
   "cell_type": "code",
   "execution_count": 12,
   "metadata": {},
   "outputs": [
    {
     "name": "stdout",
     "output_type": "stream",
     "text": [
      "Start training session...\n",
      "\n",
      "Episode 100: 0.0048\n",
      "Episode 200: 0.0155\n",
      "Episode 300: 0.0054\n",
      "Episode 400: 0.0433\n",
      "Episode 500: 0.1038\n",
      "Episode 600: 0.1158\n",
      "Episode 700: 0.1289\n",
      "Episode 800: 0.1756\n",
      "Episode 900: 0.2693\n",
      "Episode 941: 0.5204\n",
      "Environment solved in episode 941\n"
     ]
    }
   ],
   "source": [
    "scores_deque = deque(maxlen=100)\n",
    "all_scores = []\n",
    "\n",
    "eps = eps_start\n",
    "\n",
    "print('Start training session...\\n')\n",
    "\n",
    "with active_session():\n",
    "    for i_episode in range(1, n_episodes+1):\n",
    "        env_info = env.reset(train_mode=train)[brain_name]\n",
    "        states = env_info.vector_observations\n",
    "        agent.reset()\n",
    "        scores = np.zeros(num_agents)\n",
    "        for t in range(1, max_t+1):\n",
    "            actions = agent.act(states, add_noise=train, epsilon=eps)\n",
    "            env_info = env.step(actions)[brain_name]\n",
    "            next_states = env_info.vector_observations\n",
    "            rewards = env_info.rewards\n",
    "            dones = env_info.local_done\n",
    "            scores += env_info.rewards\n",
    "\n",
    "            if train:\n",
    "                agent.step(states, actions, rewards, next_states, dones, t)\n",
    "            states = next_states\n",
    "\n",
    "            if np.any(dones):\n",
    "                break\n",
    "        eps = max(eps_min, eps * eps_decay)\n",
    "        scores_deque.append(np.max(scores))\n",
    "        all_scores.append(scores)\n",
    "\n",
    "        if i_episode % print_every == 0 or np.mean(scores_deque) >= 0.5:\n",
    "            print(f'Episode {i_episode}: {np.mean(scores_deque):.4f}')\n",
    "            torch.save(agent.actor_local.state_dict(), 'checkpoint_actor.pth')\n",
    "            torch.save(agent.actor_local.state_dict(), 'checkpoint_critic.pth')\n",
    "\n",
    "            if np.mean(scores_deque) >= 0.5:\n",
    "                print(f'Environment solved in episode {i_episode}')\n",
    "                break"
   ]
  },
  {
   "cell_type": "markdown",
   "metadata": {},
   "source": [
    "After using a start epsilon of 1.5 to amplify the noise created by Orsntein-Uhlenbeck noise process on the beginning of training (to help exploration), the agent solved the environment on 941 episodes."
   ]
  },
  {
   "cell_type": "code",
   "execution_count": 18,
   "metadata": {},
   "outputs": [
    {
     "data": {
      "image/png": "[encoded data removed]",
      "text/plain": [
       "<matplotlib.figure.Figure at 0x7fc434227d68>"
      ]
     },
     "metadata": {
      "needs_background": "light"
     },
     "output_type": "display_data"
    }
   ],
   "source": [
    "plot_result(all_scores)"
   ]
  }
 ],
 "metadata": {
  "kernelspec": {
   "display_name": "Python 3",
   "language": "python",
   "name": "python3"
  },
  "language_info": {
   "codemirror_mode": {
    "name": "ipython",
    "version": 3
   },
   "file_extension": ".py",
   "mimetype": "text/x-python",
   "name": "python",
   "nbconvert_exporter": "python",
   "pygments_lexer": "ipython3",
   "version": "3.6.9"
  }
 },
 "nbformat": 4,
 "nbformat_minor": 4
}
